{
 "cells": [
  {
   "cell_type": "code",
   "execution_count": null,
   "id": "80db7c1c",
   "metadata": {},
   "outputs": [],
   "source": [
    "from utils import get_stock_price_data, LIST_STOCK\n",
    "from sklearn.linear_model import LinearRegression\n",
    "import numpy as np\n",
    "from tqdm import tqdm"
   ]
  },
  {
   "cell_type": "code",
   "execution_count": null,
   "id": "78989d30",
   "metadata": {},
   "outputs": [],
   "source": [
    "time_span = 7\n",
    "future_cols = [f'close_t{i}' for i in range(0, time_span)]\n",
    "X = np.array(range(0, len(future_cols))).reshape(-1, 1)\n",
    "def compute_slope_future(row):\n",
    "    y = row[future_cols].values.astype(float)\n",
    "    model = LinearRegression()\n",
    "    model.fit(X, y)\n",
    "    return model.coef_[0]"
   ]
  },
  {
   "cell_type": "code",
   "execution_count": null,
   "id": "1eea651a",
   "metadata": {},
   "outputs": [],
   "source": [
    "threshold = 0.03 / time_span # Tăng giảm 3% trong time_span\n",
    "for symbol in tqdm(LIST_STOCK):\n",
    "    df = get_stock_price_data(symbol)\n",
    "    for i in range(0, time_span):\n",
    "        df[f'close_t{i}'] = df['close'].shift(-i)\n",
    "    df.dropna(inplace=True)\n",
    "    for i in range(time_span-1, -1, -1):\n",
    "        df[f'close_t{i}'] = df[f'close_t{i}']/df[f'close']\n",
    "\n",
    "    coef_col_name = f'coef_close_t0_to_close_t{time_span-1}'\n",
    "    df[coef_col_name] = df.apply(compute_slope_future, axis=1)\n",
    "    df[f'ground_truth'] = np.where(\n",
    "        df[coef_col_name] >= threshold, 'up',\n",
    "        np.where(df[coef_col_name] <= -threshold, 'down', 'sideways')\n",
    "    )\n",
    "    df.to_csv(f'./data/data/{symbol}/history_price_with_gt.csv', index=False)"
   ]
  }
 ],
 "metadata": {
  "kernelspec": {
   "display_name": "Python 3",
   "language": "python",
   "name": "python3"
  },
  "language_info": {
   "codemirror_mode": {
    "name": "ipython",
    "version": 3
   },
   "file_extension": ".py",
   "mimetype": "text/x-python",
   "name": "python",
   "nbconvert_exporter": "python",
   "pygments_lexer": "ipython3",
   "version": "3.12.8"
  }
 },
 "nbformat": 4,
 "nbformat_minor": 5
}
