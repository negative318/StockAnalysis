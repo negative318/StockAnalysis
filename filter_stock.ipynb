{
 "cells": [
  {
   "cell_type": "code",
   "execution_count": 1,
   "id": "d8ee4c5a",
   "metadata": {},
   "outputs": [],
   "source": [
    "from utils import get_stock_price_data\n"
   ]
  },
  {
   "cell_type": "code",
   "execution_count": 2,
   "id": "a5dde518",
   "metadata": {},
   "outputs": [],
   "source": [
    "tai_chinh_ngan_hang = ['VCB','BID', 'CTG', 'TCB', 'VPB']\n",
    "chung_khoan_va_ngan_hang_dau_tu = ['SSI', 'VCI', 'VND', 'HCM', 'VIX']\n",
    "bao_hiem = ['BVH', 'PVI', 'VNR', 'BIC', 'MIG']\n",
    "tai_chinh = tai_chinh_ngan_hang + chung_khoan_va_ngan_hang_dau_tu + bao_hiem\n",
    "\n",
    "# Cong nghiep\n",
    "CSHT_va_GTVT = ['ACV', 'GMD', 'PHP', 'CII', 'PAP']\n",
    "van_chuyen_va_giao_nhan = ['MVN', 'VTP', 'TMS', 'VGR', 'STG', 'VFC'] # MVN bi canh bao\n",
    "xay_dung = ['HUT', 'LGC', 'VCG', 'CTR', 'SJG']\n",
    "van_chuyen_hanh_khach = ['HVN', 'VJC', 'SKG', 'BSG', 'VNS', 'DL1'] # HVN bi canh bao\n",
    "may_moc = ['VEA', 'GEE', 'GEX', 'TBD', 'RAL', 'PAC'] # VEA bi canh bao\n",
    "dich_vu_CN_TM = ['VEF', 'TLG', 'BCG', 'DSP', 'INN', 'TVC'] # DSP, TVC\n",
    "ban_buon_CN_TH = ['SHN', 'HAM', 'PEQ', 'MTS', 'ITS']\n",
    "hang_khong = []\n",
    "cong_nghiep = CSHT_va_GTVT + van_chuyen_va_giao_nhan + xay_dung + van_chuyen_hanh_khach + may_moc + dich_vu_CN_TM + ban_buon_CN_TH\n",
    "\n",
    "# bat dong san\n",
    "quan_ly_va_phat_trien_bds = ['VIC', 'VHM', 'BCM', 'VRE', 'SSH']\n",
    "bat_dong_san = quan_ly_va_phat_trien_bds\n",
    "\n",
    "# hang hoa thiet yeu\n",
    "tp_va_thuoc_la = ['VNM', 'MSN', 'QNS', 'VSF', 'KDC']\n",
    "ban_le_tp_va_thuoc = ['MCH', 'VMD', 'HAF', 'HAT', 'DDN', 'DBM'] #HAF\n",
    "do_uong = ['SAB', 'BHN', 'IFS', 'SBB', 'SMB']\n",
    "tap_doan_da_nganh = ['SGT', 'MTA', 'FIT', 'CLX', 'CKD', 'DLG'] #MTA, DLG\n",
    "sp_dich_vu = ['LIX', 'NET', 'A32', 'XPH', 'KSD']\n",
    "hang_hoa_thiet_yeu = tp_va_thuoc_la + ban_le_tp_va_thuoc + do_uong + tap_doan_da_nganh + sp_dich_vu\n",
    "\n",
    "# cong nghe\n",
    "dv_vien_thong = ['VGI', 'FOX', 'TTN', 'MFS', 'ABC', 'SBD'] #VGI\n",
    "phan_mem_va_dv_cntt = ['FPT', 'VNZ', 'CMG', 'ELC', 'FOC']\n",
    "truyen_thong_va_mang = ['SAM', 'POT', 'UNI', 'SMT', 'ONE', 'VTC'] #SMT\n",
    "may_tinh_dien_thoai = ['PSD', 'VEC', 'VTB', 'TIE'] #VEC\n",
    "chat_ban_dan = ['ICT'] #ICT\n",
    "thiet_bi_van_phong = ['ST8', 'STC']\n",
    "phu_tung_dien_tu = ['VBH']\n",
    "cong_nghe = dv_vien_thong + phan_mem_va_dv_cntt + truyen_thong_va_mang + may_tinh_dien_thoai + chat_ban_dan + thiet_bi_van_phong + phu_tung_dien_tu\n",
    "\n",
    "# nguyen vat lieu\n",
    "kim_loai_va_khai_khoang = ['HPG', 'KSV', 'MSR', 'HSG', 'NKG']\n",
    "hoa_chat = ['DGC', 'DCM', 'DPM', 'CSV', 'VFG']\n",
    "vlxd = ['THD', 'HT1', 'LIC', 'KSB', 'FIC', 'VLB'] #LIC\n",
    "giay_va_lam_san = ['VIF', 'ACG', 'GVT', 'HHP', 'TEG']\n",
    "hop_dung_va_bao_bi = ['AAA', 'TDP', 'DHC', 'MZG', 'SVI']\n",
    "nguyen_vat_lieu = kim_loai_va_khai_khoang + hoa_chat + vlxd + giay_va_lam_san + hop_dung_va_bao_bi\n",
    "\n",
    "#hang hoa khong thiet yeu\n",
    "oto_va_phu_tung = ['GVR', 'TCH', 'PHR', 'DPR', 'HHS']\n",
    "ban_le_chuyen_dung = ['MWG', 'PNJ', 'FRT', 'DGW', 'IPA']\n",
    "xay_dung_va_vlxd = ['VGC', 'DNP', 'NTP', 'VCS', 'ASM']\n",
    "det_may = ['VGT', 'MSH', 'TCM', 'TNG', 'STK']\n",
    "hang_gia_dung = ['PTB', 'TTF', 'GDT', 'NAG', 'SAV', 'EVE'] #TTF\n",
    "truyen_thong_va_xuat_ban = ['YEG', 'VNB', 'ODE', 'EID', 'SED']\n",
    "khach_san_va_giai_tri = ['TSJ', 'VNG', 'NVT', 'VTR', 'DSN', 'SGH'] #NVT\n",
    "ban_le_tong_hop = ['HTM', 'BTT'] #HTM\n",
    "sp_giai_tri = ['TNV', 'NHT']\n",
    "hang_hoa_khong_thiet_yeu = oto_va_phu_tung + ban_le_chuyen_dung + xay_dung_va_vlxd + det_may + hang_gia_dung + truyen_thong_va_xuat_ban + khach_san_va_giai_tri + ban_le_tong_hop + sp_giai_tri\n",
    "\n",
    "# nang luong\n",
    "dau_va_khi_dot = ['GAS', 'BSR', 'PLX', 'OIL', 'SWC', 'PLC'] #OIL\n",
    "dv_va_thiet_bi_dau_khi = ['PVS', 'PVD', 'PVT', 'TOS', 'PGD']\n",
    "than = ['MVB', 'TMB', 'CST', 'TVD', 'AAH']\n",
    "nang_luong_tai_tao = ['NTH', 'DDG', 'PPS']\n",
    "nang_luong = dau_va_khi_dot + dv_va_thiet_bi_dau_khi + than + nang_luong_tai_tao\n",
    "\n",
    "# tien ich\n",
    "dien_va_sx_dien = ['REE', 'POW', 'DNH', 'PGV', 'VSH']\n",
    "nuoc_va_tien_ich_lien_quan = ['BWE', 'TDM', 'DNW', 'BWS', 'VCW']\n",
    "da_tien_ich = ['DNA']\n",
    "tien_ich_khi_tu_nhien = ['CNG']\n",
    "tien_ich = dien_va_sx_dien + nuoc_va_tien_ich_lien_quan + da_tien_ich + tien_ich_khi_tu_nhien\n",
    "\n",
    "# cham soc suc khoe\n",
    "duoc_pham = ['DHG', 'DHT', 'IMP', 'DVN', 'DBD']\n",
    "dv_cham_soc_sk = ['TNH', 'TTD']\n",
    "thiet_bi_vat_tu_y_te = ['JVC', 'YTC', 'AMP', 'BBT', 'MRF', 'DNM'] #JVC\n",
    "cham_soc_suc_khoe = duoc_pham + dv_cham_soc_sk + thiet_bi_vat_tu_y_te\n",
    "\n",
    "list_stock = tai_chinh + cong_nghiep + bat_dong_san + hang_hoa_thiet_yeu + cong_nghe + nguyen_vat_lieu + hang_hoa_khong_thiet_yeu + nang_luong + tien_ich + cham_soc_suc_khoe"
   ]
  },
  {
   "cell_type": "code",
   "execution_count": 3,
   "id": "704ee417",
   "metadata": {},
   "outputs": [],
   "source": [
    "filter_list_stock = []"
   ]
  },
  {
   "cell_type": "code",
   "execution_count": 4,
   "id": "0d430c6f",
   "metadata": {},
   "outputs": [],
   "source": [
    "for stock in list_stock:\n",
    "    if get_stock_price_data(symbol=stock)['volume'].mean() >= 10000:\n",
    "        filter_list_stock.append(stock)"
   ]
  },
  {
   "cell_type": "code",
   "execution_count": 5,
   "id": "73e0e25c",
   "metadata": {},
   "outputs": [],
   "source": [
    "with open('filter_list_stock.txt', 'w') as f:\n",
    "    print(filter_list_stock, file=f)"
   ]
  }
 ],
 "metadata": {
  "kernelspec": {
   "display_name": "Python 3",
   "language": "python",
   "name": "python3"
  },
  "language_info": {
   "codemirror_mode": {
    "name": "ipython",
    "version": 3
   },
   "file_extension": ".py",
   "mimetype": "text/x-python",
   "name": "python",
   "nbconvert_exporter": "python",
   "pygments_lexer": "ipython3",
   "version": "3.12.8"
  }
 },
 "nbformat": 4,
 "nbformat_minor": 5
}
